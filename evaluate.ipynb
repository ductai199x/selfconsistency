{
 "cells": [
  {
   "cell_type": "code",
   "execution_count": 1,
   "metadata": {},
   "outputs": [],
   "source": [
    "import matplotlib.pyplot as plt\n",
    "import numpy as np\n",
    "from demo import Demo\n",
    "from tqdm.auto import tqdm\n",
    "from torch.utils.data import DataLoader\n",
    "\n",
    "from lib.utils.helpers import *\n"
   ]
  },
  {
   "cell_type": "code",
   "execution_count": 2,
   "metadata": {},
   "outputs": [],
   "source": [
    "import warnings\n",
    "warnings.filterwarnings('ignore') "
   ]
  },
  {
   "cell_type": "code",
   "execution_count": 3,
   "metadata": {},
   "outputs": [
    {
     "name": "stdout",
     "output_type": "stream",
     "text": [
      "WARNING:tensorflow:\n",
      "The TensorFlow contrib module will not be included in TensorFlow 2.0.\n",
      "For more information, please see:\n",
      "  * https://github.com/tensorflow/community/blob/master/rfcs/20180907-contrib-sunset.md\n",
      "  * https://github.com/tensorflow/addons\n",
      "  * https://github.com/tensorflow/io (for I/O related ops)\n",
      "If you depend on functionality not listed there, please file an issue.\n",
      "\n",
      "Initializing graph on gpu 0\n",
      "WARNING:tensorflow:From /home/tai/1-workdir/2-exifnet-eval/lib/python3.6/site-packages/tensorflow_core/contrib/layers/python/layers/layers.py:1057: Layer.apply (from tensorflow.python.keras.engine.base_layer) is deprecated and will be removed in a future version.\n",
      "Instructions for updating:\n",
      "Please use `layer.__call__` method instead.\n",
      "WARNING:tensorflow:From /home/tai/1-workdir/2-exifnet-eval/lib/python3.6/site-packages/tensorflow_core/python/ops/nn_impl.py:183: where (from tensorflow.python.ops.array_ops) is deprecated and will be removed in a future version.\n",
      "Instructions for updating:\n",
      "Use tf.where in 2.0, which has the same broadcast rule as np.where\n",
      "INFO:tensorflow:Restoring parameters from ./ckpt/exif_final/exif_final.ckpt\n",
      "unknown checkpoint string format ./ckpt/exif_final/exif_final.ckpt setting iteration to 0\n",
      "Succesfully resuming from ./ckpt/exif_final/exif_final.ckpt\n",
      "WARNING:tensorflow:From /home/tai/1-workdir/2-exifnet-eval/models/exif/exif_solver.py:85: start_queue_runners (from tensorflow.python.training.queue_runner_impl) is deprecated and will be removed in a future version.\n",
      "Instructions for updating:\n",
      "To construct input pipelines, use the `tf.data` module.\n",
      "WARNING:tensorflow:`tf.train.start_queue_runners()` was called when no queue runners were defined. You can safely remove the call to this deprecated function.\n"
     ]
    }
   ],
   "source": [
    "ckpt_path = './ckpt/exif_final/exif_final.ckpt'\n",
    "exif_demo = Demo(ckpt_path=ckpt_path, use_gpu=0, quality=1.0, num_per_dim=10)"
   ]
  },
  {
   "cell_type": "code",
   "execution_count": 4,
   "metadata": {},
   "outputs": [],
   "source": [
    "BATCH_SIZE = 1\n",
    "NUM_WORKERS = 0"
   ]
  },
  {
   "cell_type": "code",
   "execution_count": 5,
   "metadata": {},
   "outputs": [],
   "source": [
    "ds_choice = \"VAS\""
   ]
  },
  {
   "cell_type": "code",
   "execution_count": 6,
   "metadata": {},
   "outputs": [],
   "source": [
    "if ds_choice == \"columbia\":\n",
    "    normal = get_all_files(\"/media/nas2/Tai/6-tampering-databases/4cam_auth\", suffix=\".tif\")\n",
    "    spliced = get_all_files(\"/media/nas2/Tai/6-tampering-databases/4cam_splc\", suffix=\".tif\")\n",
    "    normal_dl = DataLoader(ColumbiaImageDataset(normal, False, False), batch_size=BATCH_SIZE, num_workers=NUM_WORKERS)\n",
    "    spliced_dl = DataLoader(ColumbiaImageDataset(spliced, False, False), batch_size=BATCH_SIZE, num_workers=NUM_WORKERS)\n",
    "elif ds_choice == \"carvalho\":\n",
    "    normal = get_all_files(\"/media/nas2/Tai/6-tampering-databases/carvalho_pristine\", suffix=\".png\")\n",
    "    spliced = get_all_files(\"/media/nas2/Tai/6-tampering-databases/carvalho_tampered\", suffix=\".png\")\n",
    "    normal_dl = DataLoader(CarvalhoImageDataset(normal, False, False), batch_size=BATCH_SIZE, num_workers=NUM_WORKERS)\n",
    "    spliced_dl = DataLoader(CarvalhoImageDataset(spliced, False, False), batch_size=BATCH_SIZE, num_workers=NUM_WORKERS)\n",
    "elif ds_choice == \"korus\":\n",
    "    normal = get_all_files(\"/media/nas2/Tai/6-tampering-databases/korus_pristine\", suffix=\".TIF\")\n",
    "    spliced = get_all_files(\"/media/nas2/Tai/6-tampering-databases/korus_tampered\", suffix=\".TIF\")\n",
    "    normal_dl = DataLoader(KorusImageDataset(normal, False, False), batch_size=BATCH_SIZE, num_workers=NUM_WORKERS)\n",
    "    spliced_dl = DataLoader(KorusImageDataset(spliced, False, False), batch_size=BATCH_SIZE, num_workers=NUM_WORKERS)"
   ]
  },
  {
   "cell_type": "code",
   "execution_count": 7,
   "metadata": {},
   "outputs": [],
   "source": [
    "if ds_choice in (\"columbia\", \"carvalho\", \"korus\"):\n",
    "    normal_avgs = []\n",
    "    spliced_avgs = []\n",
    "    for im in tqdm(normal_dl):\n",
    "        # im, meanshift = exif_demo('./images/demo.png', dense=True)\n",
    "        meanshift = exif_demo.run(im.squeeze().permute(1,2,0).numpy(), use_ncuts=False, blue_high=True)\n",
    "        normal_avgs.append(meanshift.mean())\n",
    "\n",
    "    for im in tqdm(spliced_dl):\n",
    "        meanshift = exif_demo.run(im.squeeze().permute(1,2,0).numpy(), use_ncuts=False, blue_high=True)\n",
    "        spliced_avgs.append(meanshift.mean())\n",
    "\n",
    "    normal_probs = np.array(normal_avgs)\n",
    "    normal_probs[np.isnan(normal_probs)] = 0\n",
    "    print(f\"normal pred mean: {normal_probs.mean()}\")\n",
    "\n",
    "    spliced_probs = np.array(spliced_avgs)\n",
    "    spliced_probs[np.isnan(spliced_probs)] = 0\n",
    "    print(f\"spliced pred mean: {spliced_probs.mean()}\")\n",
    "\n",
    "    normal_truths = [0] * len(normal_probs)\n",
    "    spliced_truths = [1] * len(spliced_probs)\n",
    "\n",
    "    truths = np.concatenate((normal_truths, spliced_truths), 0)\n",
    "    probs = np.concatenate((normal_probs, spliced_probs), 0)"
   ]
  },
  {
   "cell_type": "code",
   "execution_count": 9,
   "metadata": {},
   "outputs": [
    {
     "data": {
      "application/vnd.jupyter.widget-view+json": {
       "model_id": "23be61da3ae04e68a6d71af361e92670",
       "version_major": 2,
       "version_minor": 0
      },
      "text/plain": [
       "0it [00:00, ?it/s]"
      ]
     },
     "metadata": {},
     "output_type": "display_data"
    }
   ],
   "source": [
    "if ds_choice in (\"VAS\"):\n",
    "    truths = []\n",
    "    probs = []\n",
    "    for str_rec in tqdm(tf.python_io.tf_record_iterator(\"/media/nas2/graph_sim_data/video_advanced_splicing/VAS_test.tfrecord\")):\n",
    "        example = tf.train.Example()\n",
    "        example.ParseFromString(str_rec)\n",
    "        frame = np.reshape(np.fromstring(example.features.feature[\"frame\"].bytes_list.value[0], np.uint8)[23:], [1080, 1920, 3])\n",
    "        # mask = np.reshape(np.fromstring(example.features.feature[\"mask\"].bytes_list.value[0], np.uint8)[18:], [1080, 1920])\n",
    "        label = example.features.feature[\"label\"].int64_list.value[0]\n",
    "\n",
    "        truths.append(label)\n",
    "        meanshift = exif_demo.run(frame, use_ncuts=False, blue_high=True)\n",
    "        probs.append(meanshift.mean())"
   ]
  },
  {
   "cell_type": "code",
   "execution_count": 10,
   "metadata": {},
   "outputs": [
    {
     "data": {
      "image/png": "[encoded data removed]",
      "text/plain": [
       "<Figure size 432x288 with 1 Axes>"
      ]
     },
     "metadata": {
      "needs_background": "light"
     },
     "output_type": "display_data"
    }
   ],
   "source": [
    "from sklearn.metrics import roc_curve, auc\n",
    "\n",
    "fpr, tpr, _ = roc_curve(truths, probs)\n",
    "roc_auc = auc(fpr, tpr)\n",
    "\n",
    "plt.figure()\n",
    "lw = 2\n",
    "plt.plot(fpr, tpr, color='darkorange',\n",
    "        lw=lw, label='ROC curve (area = %0.2f)' % roc_auc)\n",
    "plt.plot([0, 1], [0, 1], color='navy', lw=lw, linestyle='--')\n",
    "plt.xlim([0.0, 1.0])\n",
    "plt.ylim([0.0, 1.05])\n",
    "plt.xlabel('False Positive Rate')\n",
    "plt.ylabel('True Positive Rate')\n",
    "plt.title('Receiver operating characteristic example')\n",
    "plt.legend(loc=\"lower right\")\n",
    "plt.show()"
   ]
  },
  {
   "cell_type": "code",
   "execution_count": null,
   "metadata": {},
   "outputs": [],
   "source": []
  },
  {
   "cell_type": "code",
   "execution_count": null,
   "metadata": {},
   "outputs": [],
   "source": []
  },
  {
   "cell_type": "code",
   "execution_count": null,
   "metadata": {},
   "outputs": [],
   "source": []
  },
  {
   "cell_type": "code",
   "execution_count": null,
   "metadata": {},
   "outputs": [],
   "source": []
  },
  {
   "cell_type": "code",
   "execution_count": null,
   "metadata": {},
   "outputs": [],
   "source": []
  }
 ],
 "metadata": {
  "interpreter": {
   "hash": "05a38c9a3213afe36774c7688c8e0df837089a34a1edd1941ed551707f093bff"
  },
  "kernelspec": {
   "display_name": "Python 3.9.12 ('2-exifnet-eval': venv)",
   "language": "python",
   "name": "python3"
  },
  "language_info": {
   "codemirror_mode": {
    "name": "ipython",
    "version": 3
   },
   "file_extension": ".py",
   "mimetype": "text/x-python",
   "name": "python",
   "nbconvert_exporter": "python",
   "pygments_lexer": "ipython3",
   "version": "3.6.9"
  },
  "orig_nbformat": 4
 },
 "nbformat": 4,
 "nbformat_minor": 2
}
